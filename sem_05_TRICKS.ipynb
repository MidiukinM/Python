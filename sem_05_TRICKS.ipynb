{
 "cells": [
  {
   "cell_type": "markdown",
   "id": "legal-adapter",
   "metadata": {},
   "source": [
    "# Семинар №5: Функциональное программирование и всякие разные приколы"
   ]
  },
  {
   "cell_type": "markdown",
   "id": "organizational-advocacy",
   "metadata": {},
   "source": [
    "<img src=\"images/mem_sem_05.png\" width=\"500\">"
   ]
  },
  {
   "cell_type": "markdown",
   "id": "unlike-reputation",
   "metadata": {},
   "source": [
    "## 1. Генераторы  \n",
    "\n",
    "Генераторы $-$ это такие итерируемые объекты-функции, которые выдают каждое значение ровно в тот момент, когда их это просят. Таким образом, это позволяет снизить нагрузку на память компьютера.   \n",
    "\n",
    "**Пример:** одним из таких генераторов является `range()`, с которым мы уже не раз сталкивались. Чем отличается `range(10)` от списка $[0, 1, 2, 3, 4, 5, 6, 7, 8, 9]$? А тем, что если бы мы итерировались по списку, то в памяти компьютера бы занялось 10 ячеек (своя ячейка для каждого числа), а при работе с генераторами ячейка занимается всего одна (сначала мы получили 0, потом его забыли и получили 1 и тд)"
   ]
  },
  {
   "cell_type": "code",
   "execution_count": 100,
   "id": "aggregate-machine",
   "metadata": {},
   "outputs": [
    {
     "data": {
      "text/plain": [
       "range"
      ]
     },
     "execution_count": 100,
     "metadata": {},
     "output_type": "execute_result"
    }
   ],
   "source": [
    "type(range(10))"
   ]
  },
  {
   "cell_type": "markdown",
   "id": "adopted-zambia",
   "metadata": {},
   "source": [
    "Чтобы получить значения, генератор нужно распаковать:"
   ]
  },
  {
   "cell_type": "code",
   "execution_count": 101,
   "id": "broad-antigua",
   "metadata": {},
   "outputs": [
    {
     "data": {
      "text/plain": [
       "[0, 1, 2, 3, 4, 5, 6, 7, 8, 9]"
      ]
     },
     "execution_count": 101,
     "metadata": {},
     "output_type": "execute_result"
    }
   ],
   "source": [
    "list(range(10))"
   ]
  },
  {
   "cell_type": "markdown",
   "id": "manual-olive",
   "metadata": {},
   "source": [
    "Пишем свой генератор:"
   ]
  },
  {
   "cell_type": "code",
   "execution_count": 103,
   "id": "descending-consumption",
   "metadata": {},
   "outputs": [],
   "source": [
    "def even_range(start, end):\n",
    "    current = start\n",
    "    while current < end:\n",
    "        yield current # yield позволяет вернуть значение из функции, но не завершить саму функцию\n",
    "        current += 2"
   ]
  },
  {
   "cell_type": "code",
   "execution_count": 104,
   "id": "adjacent-consideration",
   "metadata": {},
   "outputs": [
    {
     "name": "stdout",
     "output_type": "stream",
     "text": [
      "0\n",
      "2\n",
      "4\n",
      "6\n",
      "8\n"
     ]
    }
   ],
   "source": [
    "for number in even_range(0, 10):\n",
    "    print(number)"
   ]
  },
  {
   "cell_type": "markdown",
   "id": "prerequisite-front",
   "metadata": {},
   "source": [
    "Значения в генераторе можно получать с помощью функции `next()`:"
   ]
  },
  {
   "cell_type": "code",
   "execution_count": 107,
   "id": "freelance-festival",
   "metadata": {},
   "outputs": [
    {
     "name": "stdout",
     "output_type": "stream",
     "text": [
      "0\n",
      "\n",
      "2\n"
     ]
    }
   ],
   "source": [
    "ranger = even_range(0, 10)\n",
    "\n",
    "print(next(ranger))\n",
    "print()\n",
    "\n",
    "print(next(ranger))"
   ]
  },
  {
   "cell_type": "markdown",
   "id": "unusual-vegetarian",
   "metadata": {},
   "source": [
    "__Пример:__ Числа Фибоначчи"
   ]
  },
  {
   "cell_type": "code",
   "execution_count": 108,
   "id": "convinced-sustainability",
   "metadata": {},
   "outputs": [
    {
     "name": "stdout",
     "output_type": "stream",
     "text": [
      "1\n",
      "1\n",
      "2\n",
      "3\n",
      "5\n",
      "8\n",
      "13\n",
      "21\n",
      "34\n",
      "55\n"
     ]
    }
   ],
   "source": [
    "def fibonacci(number):\n",
    "    a = b = 1\n",
    "    for _ in range(number):\n",
    "        yield a \n",
    "        a, b = b, a + b\n",
    "        \n",
    "for num in fibonacci(10):\n",
    "    print(num)"
   ]
  },
  {
   "cell_type": "markdown",
   "id": "certain-committee",
   "metadata": {},
   "source": [
    "## 2. list comprehensive  \n",
    "\n",
    "Пишем простые циклы и всякие выражения в одну строку"
   ]
  },
  {
   "cell_type": "code",
   "execution_count": 97,
   "id": "interesting-anaheim",
   "metadata": {},
   "outputs": [
    {
     "name": "stdout",
     "output_type": "stream",
     "text": [
      "[0, 2, 4, 6, 8]\n"
     ]
    }
   ],
   "source": [
    "even_list = [num for num in range(10) if num % 2 == 0]\n",
    "print(even_list)"
   ]
  },
  {
   "cell_type": "code",
   "execution_count": 98,
   "id": "improved-interference",
   "metadata": {},
   "outputs": [
    {
     "data": {
      "text/plain": [
       "generator"
      ]
     },
     "execution_count": 98,
     "metadata": {},
     "output_type": "execute_result"
    }
   ],
   "source": [
    "type(number ** 2 for number in range(5))"
   ]
  },
  {
   "cell_type": "markdown",
   "id": "agreed-somewhere",
   "metadata": {},
   "source": [
    "## 3. Работа с файлами"
   ]
  },
  {
   "cell_type": "markdown",
   "id": "wrapped-trademark",
   "metadata": {},
   "source": [
    "Открывать файлы с помощью функции `open()` можно на чтение (`r`), запись (`w`), чтение и запись (`r+`) и на дозапись (`a`). Можем открывать файлы в бинарном виде, добавляя `b`, например, на чтение это будет `br`. Закрыть файл с помощью метода `close()`."
   ]
  },
  {
   "cell_type": "code",
   "execution_count": 109,
   "id": "threatened-newark",
   "metadata": {},
   "outputs": [],
   "source": [
    "f = open('filename', 'w')\n",
    "f.write('The world is changed \\n I taste alcohol \\n')\n",
    "\n",
    "f.close()"
   ]
  },
  {
   "cell_type": "code",
   "execution_count": 111,
   "id": "neither-register",
   "metadata": {},
   "outputs": [
    {
     "data": {
      "text/plain": [
       "'The world is changed \\n I taste alcohol \\n'"
      ]
     },
     "execution_count": 111,
     "metadata": {},
     "output_type": "execute_result"
    }
   ],
   "source": [
    "f = open('filename', 'r+')\n",
    "f.read()"
   ]
  },
  {
   "cell_type": "markdown",
   "id": "ordered-circulation",
   "metadata": {},
   "source": [
    "Читаем построчно"
   ]
  },
  {
   "cell_type": "code",
   "execution_count": 116,
   "id": "sonic-still",
   "metadata": {},
   "outputs": [
    {
     "name": "stdout",
     "output_type": "stream",
     "text": [
      "Первая строка: The world is changed \n",
      "\n",
      "Вторая строка:  I taste alcohol \n",
      "\n"
     ]
    }
   ],
   "source": [
    "f.seek(0) # перемещаем указатель\n",
    "\n",
    "print(f'Первая строка: {f.readline()}')\n",
    "print(f'Вторая строка: {f.readline()}')\n",
    "\n",
    "f.close()"
   ]
  },
  {
   "cell_type": "markdown",
   "id": "available-professional",
   "metadata": {},
   "source": [
    "**Контекстный менеджер** - используется, чтобы не париться о закрытии файла"
   ]
  },
  {
   "cell_type": "code",
   "execution_count": 117,
   "id": "liked-dictionary",
   "metadata": {},
   "outputs": [
    {
     "name": "stdout",
     "output_type": "stream",
     "text": [
      "The world is changed \n",
      " I taste alcohol \n",
      "\n"
     ]
    }
   ],
   "source": [
    "with open('filename') as f:\n",
    "    print(f.read())"
   ]
  },
  {
   "cell_type": "markdown",
   "id": "sharing-victim",
   "metadata": {},
   "source": [
    "## 4. Исключения"
   ]
  },
  {
   "cell_type": "markdown",
   "id": "better-stamp",
   "metadata": {},
   "source": [
    "###  try - except"
   ]
  },
  {
   "cell_type": "markdown",
   "id": "iraqi-replica",
   "metadata": {},
   "source": [
    "Наивный способ:"
   ]
  },
  {
   "cell_type": "code",
   "execution_count": 3,
   "id": "competent-rescue",
   "metadata": {},
   "outputs": [
    {
     "name": "stdout",
     "output_type": "stream",
     "text": [
      "Ошибка\n"
     ]
    }
   ],
   "source": [
    "try:\n",
    "    1 / 0\n",
    "except:\n",
    "    print('Ошибка')"
   ]
  },
  {
   "cell_type": "markdown",
   "id": "curious-subsection",
   "metadata": {},
   "source": [
    "С указанием родительского класса (про классы подробнее на следующей паре):"
   ]
  },
  {
   "cell_type": "code",
   "execution_count": null,
   "id": "exciting-appointment",
   "metadata": {},
   "outputs": [],
   "source": [
    "try:\n",
    "    1 / 0\n",
    "except Exception:\n",
    "    print('Ошибка')"
   ]
  },
  {
   "cell_type": "markdown",
   "id": "macro-variation",
   "metadata": {},
   "source": [
    "Не следует обрабатывать все исключения и оставлять блок `except` пустым. Чаще указывают конкретную ошибку:"
   ]
  },
  {
   "cell_type": "code",
   "execution_count": 5,
   "id": "economic-mainland",
   "metadata": {},
   "outputs": [
    {
     "name": "stdout",
     "output_type": "stream",
     "text": [
      "Введите число: ff\n",
      "Некорректное значение\n",
      "Введите число: 3\n"
     ]
    }
   ],
   "source": [
    "while True:\n",
    "    try:\n",
    "        raw = input('Введите число: ')\n",
    "        number = int(raw)\n",
    "    except ValueError:\n",
    "        print('Некорректное значение')\n",
    "    else:\n",
    "        break"
   ]
  },
  {
   "cell_type": "markdown",
   "id": "given-printing",
   "metadata": {},
   "source": [
    "Обработка нескольких исключений:"
   ]
  },
  {
   "cell_type": "code",
   "execution_count": 7,
   "id": "specified-supervision",
   "metadata": {},
   "outputs": [
    {
     "name": "stdout",
     "output_type": "stream",
     "text": [
      "Введите число: ff\n",
      "Некорректное значение\n",
      "Введите число: 0\n",
      "Некорректное значение\n",
      "Введите число: 2\n"
     ]
    }
   ],
   "source": [
    "total_count = 100000\n",
    "\n",
    "while True:\n",
    "    try:\n",
    "        raw = input('Введите число: ')\n",
    "        number = int(raw)\n",
    "        total_count = total_count / number\n",
    "        break\n",
    "    except (ValueError, ZeroDivisionError):\n",
    "        print('Некорректное значение')"
   ]
  },
  {
   "cell_type": "markdown",
   "id": "north-interim",
   "metadata": {},
   "source": [
    "* `else` - что делать, если ошибки нет\n",
    "* `finally` - выполняй всегда, несмотря на то, упал код или нет. Используется, когда нужно сделать что-то важное (прервать соединение / закрыть файл и тд) "
   ]
  },
  {
   "cell_type": "code",
   "execution_count": 18,
   "id": "working-insert",
   "metadata": {},
   "outputs": [
    {
     "name": "stdout",
     "output_type": "stream",
     "text": [
      "0\n",
      "Exception!\n",
      "This is the end!\n",
      "3\n",
      "No exceptions\n",
      "This is the end!\n"
     ]
    }
   ],
   "source": [
    "while True: \n",
    "    try:\n",
    "        a = 1 \n",
    "        b = int(input())\n",
    "        a / b \n",
    "    except ZeroDivisionError:\n",
    "        print('Exception!')\n",
    "    else:\n",
    "        print('No exceptions')\n",
    "        break\n",
    "    finally:\n",
    "        print('This is the end!')"
   ]
  },
  {
   "cell_type": "markdown",
   "id": "supported-clearance",
   "metadata": {},
   "source": [
    "### raise"
   ]
  },
  {
   "cell_type": "code",
   "execution_count": 30,
   "id": "thorough-shelter",
   "metadata": {},
   "outputs": [
    {
     "name": "stdout",
     "output_type": "stream",
     "text": [
      "Got an exception \"division by zero\"!\n"
     ]
    },
    {
     "ename": "ZeroDivisionError",
     "evalue": "division by zero",
     "output_type": "error",
     "traceback": [
      "\u001b[0;31m---------------------------------------------------------------------------\u001b[0m",
      "\u001b[0;31mZeroDivisionError\u001b[0m                         Traceback (most recent call last)",
      "\u001b[0;32m<ipython-input-30-9ae55b66737f>\u001b[0m in \u001b[0;36m<module>\u001b[0;34m\u001b[0m\n\u001b[1;32m      1\u001b[0m \u001b[0;32mtry\u001b[0m\u001b[0;34m:\u001b[0m\u001b[0;34m\u001b[0m\u001b[0;34m\u001b[0m\u001b[0m\n\u001b[0;32m----> 2\u001b[0;31m     \u001b[0;36m1\u001b[0m \u001b[0;34m/\u001b[0m \u001b[0;36m0\u001b[0m\u001b[0;34m\u001b[0m\u001b[0;34m\u001b[0m\u001b[0m\n\u001b[0m\u001b[1;32m      3\u001b[0m \u001b[0;32mexcept\u001b[0m \u001b[0mZeroDivisionError\u001b[0m \u001b[0;32mas\u001b[0m \u001b[0mz\u001b[0m\u001b[0;34m:\u001b[0m\u001b[0;34m\u001b[0m\u001b[0;34m\u001b[0m\u001b[0m\n\u001b[1;32m      4\u001b[0m     \u001b[0mprint\u001b[0m\u001b[0;34m(\u001b[0m\u001b[0;34mf'Got an exception \"{z}\"!'\u001b[0m\u001b[0;34m)\u001b[0m\u001b[0;34m\u001b[0m\u001b[0;34m\u001b[0m\u001b[0m\n\u001b[1;32m      5\u001b[0m     \u001b[0;32mraise\u001b[0m\u001b[0;34m\u001b[0m\u001b[0;34m\u001b[0m\u001b[0m\n",
      "\u001b[0;31mZeroDivisionError\u001b[0m: division by zero"
     ]
    }
   ],
   "source": [
    "try:\n",
    "    1 / 0\n",
    "except ZeroDivisionError as z:\n",
    "    print(f'Got an exception \"{z}\"!')\n",
    "    raise"
   ]
  },
  {
   "cell_type": "code",
   "execution_count": 28,
   "id": "obvious-wayne",
   "metadata": {},
   "outputs": [
    {
     "ename": "ValueError",
     "evalue": "a пустое",
     "output_type": "error",
     "traceback": [
      "\u001b[0;31m---------------------------------------------------------------------------\u001b[0m",
      "\u001b[0;31mValueError\u001b[0m                                Traceback (most recent call last)",
      "\u001b[0;32m<ipython-input-28-74c910e27a8b>\u001b[0m in \u001b[0;36m<module>\u001b[0;34m\u001b[0m\n\u001b[1;32m      2\u001b[0m \u001b[0;34m\u001b[0m\u001b[0m\n\u001b[1;32m      3\u001b[0m \u001b[0;32mif\u001b[0m \u001b[0ma\u001b[0m \u001b[0;32mis\u001b[0m \u001b[0;32mNone\u001b[0m\u001b[0;34m:\u001b[0m\u001b[0;34m\u001b[0m\u001b[0;34m\u001b[0m\u001b[0m\n\u001b[0;32m----> 4\u001b[0;31m     \u001b[0;32mraise\u001b[0m \u001b[0mValueError\u001b[0m\u001b[0;34m(\u001b[0m\u001b[0;34m'a пустое'\u001b[0m\u001b[0;34m)\u001b[0m\u001b[0;34m\u001b[0m\u001b[0;34m\u001b[0m\u001b[0m\n\u001b[0m",
      "\u001b[0;31mValueError\u001b[0m: a пустое"
     ]
    }
   ],
   "source": [
    "a = None\n",
    "\n",
    "if a is None:\n",
    "    raise ValueError('a пустое')"
   ]
  },
  {
   "cell_type": "markdown",
   "id": "logical-cleveland",
   "metadata": {},
   "source": [
    "### assert  \n",
    "\n",
    "Используем только в тестах! НЕ в продакшн коде"
   ]
  },
  {
   "cell_type": "code",
   "execution_count": 125,
   "id": "joined-heating",
   "metadata": {},
   "outputs": [],
   "source": [
    "assert True"
   ]
  },
  {
   "cell_type": "code",
   "execution_count": 126,
   "id": "disturbed-tiffany",
   "metadata": {},
   "outputs": [
    {
     "ename": "AssertionError",
     "evalue": "",
     "output_type": "error",
     "traceback": [
      "\u001b[0;31m---------------------------------------------------------------------------\u001b[0m",
      "\u001b[0;31mAssertionError\u001b[0m                            Traceback (most recent call last)",
      "\u001b[0;32m<ipython-input-126-2c43ebb96ecb>\u001b[0m in \u001b[0;36m<module>\u001b[0;34m\u001b[0m\n\u001b[1;32m      1\u001b[0m \u001b[0;31m# если генерируем с False, то AssertionError\u001b[0m\u001b[0;34m\u001b[0m\u001b[0;34m\u001b[0m\u001b[0;34m\u001b[0m\u001b[0m\n\u001b[0;32m----> 2\u001b[0;31m \u001b[0;32massert\u001b[0m \u001b[0;36m1\u001b[0m \u001b[0;34m==\u001b[0m \u001b[0;36m0\u001b[0m\u001b[0;34m\u001b[0m\u001b[0;34m\u001b[0m\u001b[0m\n\u001b[0m",
      "\u001b[0;31mAssertionError\u001b[0m: "
     ]
    }
   ],
   "source": [
    "# если генерируем с False, то AssertionError\n",
    "assert 1 == 0"
   ]
  },
  {
   "cell_type": "code",
   "execution_count": 128,
   "id": "structural-aspect",
   "metadata": {},
   "outputs": [
    {
     "ename": "AssertionError",
     "evalue": "1 не равен 0",
     "output_type": "error",
     "traceback": [
      "\u001b[0;31m---------------------------------------------------------------------------\u001b[0m",
      "\u001b[0;31mAssertionError\u001b[0m                            Traceback (most recent call last)",
      "\u001b[0;32m<ipython-input-128-acf863be538a>\u001b[0m in \u001b[0;36m<module>\u001b[0;34m\u001b[0m\n\u001b[1;32m      1\u001b[0m \u001b[0;31m# можем добавлять сообщение\u001b[0m\u001b[0;34m\u001b[0m\u001b[0;34m\u001b[0m\u001b[0;34m\u001b[0m\u001b[0m\n\u001b[0;32m----> 2\u001b[0;31m \u001b[0;32massert\u001b[0m \u001b[0;36m1\u001b[0m \u001b[0;34m==\u001b[0m \u001b[0;36m0\u001b[0m\u001b[0;34m,\u001b[0m \u001b[0;34m'1 не равен 0'\u001b[0m\u001b[0;34m\u001b[0m\u001b[0;34m\u001b[0m\u001b[0m\n\u001b[0m",
      "\u001b[0;31mAssertionError\u001b[0m: 1 не равен 0"
     ]
    }
   ],
   "source": [
    "# можем добавлять сообщение\n",
    "assert 1 == 0, '1 не равен 0'"
   ]
  },
  {
   "cell_type": "markdown",
   "id": "offensive-sunrise",
   "metadata": {},
   "source": [
    "### Производительность  \n",
    "С исключениями код выполняется дольше"
   ]
  },
  {
   "cell_type": "code",
   "execution_count": 129,
   "id": "trying-multiple",
   "metadata": {},
   "outputs": [
    {
     "name": "stdout",
     "output_type": "stream",
     "text": [
      "232 µs ± 25.1 µs per loop (mean ± std. dev. of 7 runs, 1000 loops each)\n"
     ]
    }
   ],
   "source": [
    "%%timeit\n",
    "my_dict = {'foo': 1}\n",
    "for _ in range(1000):\n",
    "    try:\n",
    "        my_dict['bar']\n",
    "    except KeyError:\n",
    "        pass"
   ]
  },
  {
   "cell_type": "code",
   "execution_count": 130,
   "id": "sapphire-spanking",
   "metadata": {},
   "outputs": [
    {
     "name": "stdout",
     "output_type": "stream",
     "text": [
      "39 µs ± 2.69 µs per loop (mean ± std. dev. of 7 runs, 10000 loops each)\n"
     ]
    }
   ],
   "source": [
    "%%timeit\n",
    "my_dict = {'foo': 1}\n",
    "for _ in range(1000):\n",
    "    if 'bar' in my_dict:\n",
    "        _ = my_dict['bar']"
   ]
  },
  {
   "cell_type": "markdown",
   "id": "expanded-frederick",
   "metadata": {},
   "source": [
    "**Замечание:** В каждой библиотеке есть свои исключения. Они находятся в той же папке под именем `exceptions.py`"
   ]
  },
  {
   "cell_type": "markdown",
   "id": "serial-drama",
   "metadata": {},
   "source": [
    "## 5. Приколы с функциями"
   ]
  },
  {
   "cell_type": "markdown",
   "id": "united-touch",
   "metadata": {},
   "source": [
    "Напомним, что функции - это такие же объекты, как и все остальное.   \n",
    "\n",
    "Поэтому, например, мы можем **передавать в одну функцию в качестве аргумента другую функцию**"
   ]
  },
  {
   "cell_type": "code",
   "execution_count": 118,
   "id": "early-oxford",
   "metadata": {},
   "outputs": [
    {
     "name": "stdout",
     "output_type": "stream",
     "text": [
      "I'm Moana of Motunui!\n"
     ]
    }
   ],
   "source": [
    "def caller(func, params):\n",
    "    return func(*params)\n",
    "\n",
    "def printer(name, origin):\n",
    "    print(f\"I\\'m {name} of {origin}!\")\n",
    "    \n",
    "caller(printer, ['Moana', 'Motunui'])"
   ]
  },
  {
   "cell_type": "markdown",
   "id": "ranking-invitation",
   "metadata": {},
   "source": [
    "Можем создавать **функции внутри функций**:"
   ]
  },
  {
   "cell_type": "code",
   "execution_count": 119,
   "id": "dying-confirmation",
   "metadata": {},
   "outputs": [
    {
     "data": {
      "text/plain": [
       "110"
      ]
     },
     "execution_count": 119,
     "metadata": {},
     "output_type": "execute_result"
    }
   ],
   "source": [
    "def get_multiplier():\n",
    "    def inner(a, b):\n",
    "        return a * b\n",
    "    return inner\n",
    "\n",
    "multiplier = get_multiplier()\n",
    "\n",
    "multiplier(10, 11)"
   ]
  },
  {
   "cell_type": "code",
   "execution_count": 120,
   "id": "emerging-content",
   "metadata": {},
   "outputs": [
    {
     "name": "stdout",
     "output_type": "stream",
     "text": [
      "inner\n"
     ]
    }
   ],
   "source": [
    "# в переменной multiplier лежит функция inner! НЕ get_multiplier\n",
    "print(multiplier.__name__)"
   ]
  },
  {
   "cell_type": "markdown",
   "id": "adolescent-serve",
   "metadata": {},
   "source": [
    "**Концепция замыкания** - очень активно используется в декораторах.  "
   ]
  },
  {
   "cell_type": "code",
   "execution_count": 4,
   "id": "growing-energy",
   "metadata": {},
   "outputs": [
    {
     "data": {
      "text/plain": [
       "40"
      ]
     },
     "execution_count": 4,
     "metadata": {},
     "output_type": "execute_result"
    }
   ],
   "source": [
    "def get_multiplier(number):\n",
    "    def inner(a):\n",
    "        return a * number\n",
    "    return inner\n",
    "\n",
    "multiplier_by_2 = get_multiplier(2)\n",
    "multiplier_by_2(20)"
   ]
  },
  {
   "cell_type": "markdown",
   "id": "surprising-investigation",
   "metadata": {},
   "source": [
    "### type hinting  \n",
    "\n",
    "по pep8 нужно явно указывать, что вы ожидаете передавать в функцию, что получать и само описание функции"
   ]
  },
  {
   "cell_type": "code",
   "execution_count": 41,
   "id": "thrown-consultation",
   "metadata": {},
   "outputs": [
    {
     "name": "stdout",
     "output_type": "stream",
     "text": [
      "1\n"
     ]
    }
   ],
   "source": [
    "def add(x: int, y: int) -> int:\n",
    "    \"\"\"Суммируем два числа\"\"\"\n",
    "    return x + y\n",
    "\n",
    "print(add(0, 1))"
   ]
  },
  {
   "cell_type": "code",
   "execution_count": 40,
   "id": "dominant-monkey",
   "metadata": {},
   "outputs": [
    {
     "name": "stdout",
     "output_type": "stream",
     "text": [
      "pep8\n"
     ]
    }
   ],
   "source": [
    "# с другими типами все равно работает - особенность питона\n",
    "print(add('pep', '8'))"
   ]
  },
  {
   "cell_type": "markdown",
   "id": "speaking-potter",
   "metadata": {},
   "source": [
    "### \\*args и \\**kwargs\n",
    "\n",
    "Штуки, которые позволяют передавать в функцию неопределенное кол-во параметров. **args** представляет собой `tuple`, а **kwargs** - `dict` "
   ]
  },
  {
   "cell_type": "code",
   "execution_count": 89,
   "id": "scientific-institute",
   "metadata": {},
   "outputs": [],
   "source": [
    "def printer(*args):\n",
    "    print(type(args))\n",
    "    \n",
    "    return [x**2 for x in args]"
   ]
  },
  {
   "cell_type": "code",
   "execution_count": 90,
   "id": "documentary-applicant",
   "metadata": {},
   "outputs": [
    {
     "name": "stdout",
     "output_type": "stream",
     "text": [
      "<class 'tuple'>\n"
     ]
    },
    {
     "data": {
      "text/plain": [
       "[1, 4, 9, 16, 25]"
      ]
     },
     "execution_count": 90,
     "metadata": {},
     "output_type": "execute_result"
    }
   ],
   "source": [
    "printer(1, 2, 3, 4, 5)"
   ]
  },
  {
   "cell_type": "code",
   "execution_count": 94,
   "id": "parental-place",
   "metadata": {},
   "outputs": [],
   "source": [
    "def printer(**kwargs):\n",
    "    print(type(kwargs))\n",
    "    \n",
    "    for key, value in kwargs.items():\n",
    "        print(f'{key} - {value}')"
   ]
  },
  {
   "cell_type": "code",
   "execution_count": 95,
   "id": "fantastic-hostel",
   "metadata": {},
   "outputs": [
    {
     "name": "stdout",
     "output_type": "stream",
     "text": [
      "<class 'dict'>\n",
      "a - 10\n",
      "b - 11\n"
     ]
    }
   ],
   "source": [
    "printer(a=10, b=11)"
   ]
  },
  {
   "cell_type": "code",
   "execution_count": 96,
   "id": "dimensional-creek",
   "metadata": {},
   "outputs": [
    {
     "name": "stdout",
     "output_type": "stream",
     "text": [
      "<class 'dict'>\n",
      "user_id - 131231\n",
      "feedback - good\n",
      "description - {'age': 22, 'sex': 'male'}\n"
     ]
    }
   ],
   "source": [
    "arguments = {'user_id' : 131231, 'feedback' : 'good', \n",
    "            'description': {'age' : 22, 'sex': 'male'}}\n",
    "\n",
    "printer(**arguments)"
   ]
  },
  {
   "cell_type": "markdown",
   "id": "military-honolulu",
   "metadata": {},
   "source": [
    "### map и filter"
   ]
  },
  {
   "cell_type": "markdown",
   "id": "aware-light",
   "metadata": {},
   "source": [
    "`map` позволяет применять некую функцию к каждому элементу внутри какого-то итерабельного объекта"
   ]
  },
  {
   "cell_type": "code",
   "execution_count": 122,
   "id": "happy-district",
   "metadata": {},
   "outputs": [
    {
     "data": {
      "text/plain": [
       "[0, 1, 4, 9, 16]"
      ]
     },
     "execution_count": 122,
     "metadata": {},
     "output_type": "execute_result"
    }
   ],
   "source": [
    "def squarify(a):\n",
    "    return a ** 2\n",
    "\n",
    "# нужно распаковать, так как это генератор\n",
    "list(map(squarify, range(5)))"
   ]
  },
  {
   "cell_type": "markdown",
   "id": "genuine-truth",
   "metadata": {},
   "source": [
    "`filter` позволяет фильтровать какой-то итерабельный объект по предикаторной функции"
   ]
  },
  {
   "cell_type": "code",
   "execution_count": 124,
   "id": "small-frank",
   "metadata": {},
   "outputs": [
    {
     "data": {
      "text/plain": [
       "[1, 2]"
      ]
     },
     "execution_count": 124,
     "metadata": {},
     "output_type": "execute_result"
    }
   ],
   "source": [
    "def is_positive(a):\n",
    "    return a > 0\n",
    "\n",
    "# тоже распаковываем\n",
    "list(filter(is_positive, range(-2, 3)))"
   ]
  },
  {
   "cell_type": "markdown",
   "id": "published-heavy",
   "metadata": {},
   "source": [
    "### Модуль `functools`"
   ]
  },
  {
   "cell_type": "markdown",
   "id": "integral-comfort",
   "metadata": {},
   "source": [
    "`reduce` позволяет сжимать данные, применяя последовательно функцию и запоминая результат"
   ]
  },
  {
   "cell_type": "code",
   "execution_count": 132,
   "id": "italian-regard",
   "metadata": {},
   "outputs": [
    {
     "data": {
      "text/plain": [
       "120"
      ]
     },
     "execution_count": 132,
     "metadata": {},
     "output_type": "execute_result"
    }
   ],
   "source": [
    "from functools import reduce\n",
    "\n",
    "def multiply(a, b):\n",
    "    return a * b\n",
    "\n",
    "reduce(multiply, [1, 2, 3, 4, 5])"
   ]
  },
  {
   "cell_type": "markdown",
   "id": "superior-humanity",
   "metadata": {},
   "source": [
    "`partial` позволяет создавать новые функции, добавляя в какие-то аргументы значения по умолчанию"
   ]
  },
  {
   "cell_type": "code",
   "execution_count": 133,
   "id": "loving-indiana",
   "metadata": {},
   "outputs": [
    {
     "name": "stdout",
     "output_type": "stream",
     "text": [
      "Hi, brother!\n",
      "Hello, sir!\n"
     ]
    }
   ],
   "source": [
    "from functools import partial\n",
    "\n",
    "def greeter(person, greeting):\n",
    "    return '{}, {}!'.format(greeting, person)\n",
    "\n",
    "hier = partial(greeter, greeting='Hi')\n",
    "helloer = partial(greeter, greeting='Hello')\n",
    "\n",
    "print(hier('brother'))\n",
    "print(helloer('sir'))"
   ]
  },
  {
   "cell_type": "markdown",
   "id": "selective-modeling",
   "metadata": {},
   "source": [
    "## 6. Декораторы"
   ]
  },
  {
   "cell_type": "markdown",
   "id": "excellent-capability",
   "metadata": {},
   "source": [
    "Используем концепцию замыкания, но только "
   ]
  }
 ],
 "metadata": {
  "kernelspec": {
   "display_name": "Python 3",
   "language": "python",
   "name": "python3"
  },
  "language_info": {
   "codemirror_mode": {
    "name": "ipython",
    "version": 3
   },
   "file_extension": ".py",
   "mimetype": "text/x-python",
   "name": "python",
   "nbconvert_exporter": "python",
   "pygments_lexer": "ipython3",
   "version": "3.9.2"
  }
 },
 "nbformat": 4,
 "nbformat_minor": 5
}
